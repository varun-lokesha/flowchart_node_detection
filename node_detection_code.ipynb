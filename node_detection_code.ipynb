{
  "nbformat": 4,
  "nbformat_minor": 0,
  "metadata": {
    "colab": {
      "provenance": [],
      "authorship_tag": "ABX9TyNcLpw76I8XOH2iXJe2W88A",
      "include_colab_link": true
    },
    "kernelspec": {
      "name": "python3",
      "display_name": "Python 3"
    },
    "language_info": {
      "name": "python"
    }
  },
  "cells": [
    {
      "cell_type": "markdown",
      "metadata": {
        "id": "view-in-github",
        "colab_type": "text"
      },
      "source": [
        "<a href=\"https://colab.research.google.com/github/varun-lokesha/flowchart_node_detection/blob/notebook_setup/node_detection_code.ipynb\" target=\"_parent\"><img src=\"https://colab.research.google.com/assets/colab-badge.svg\" alt=\"Open In Colab\"/></a>"
      ]
    },
    {
      "cell_type": "markdown",
      "source": [
        "Flowchart Node Detection  \n",
        "Authors  \n",
        "-  Esha\n",
        "-  Deyu\n",
        "-  Manjot  \n",
        "-  Srinivas\n",
        "-  Shlok\n",
        "-  Varun\n"
      ],
      "metadata": {
        "id": "PTKCKJRYMKkF"
      }
    }
  ]
}